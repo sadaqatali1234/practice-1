{
  "nbformat": 4,
  "nbformat_minor": 0,
  "metadata": {
    "accelerator": "GPU",
    "colab": {
      "name": "e-mail spam detection.ipynb",
      "provenance": [],
      "include_colab_link": true
    },
    "kernelspec": {
      "display_name": "Python 3",
      "language": "python",
      "name": "python3"
    },
    "language_info": {
      "codemirror_mode": {
        "name": "ipython",
        "version": 3
      },
      "file_extension": ".py",
      "mimetype": "text/x-python",
      "name": "python",
      "nbconvert_exporter": "python",
      "pygments_lexer": "ipython3",
      "version": "3.7.6"
    }
  },
  "cells": [
    {
      "cell_type": "markdown",
      "metadata": {
        "id": "view-in-github",
        "colab_type": "text"
      },
      "source": [
        "<a href=\"https://colab.research.google.com/github/sadaqatali1234/practice-1/blob/master/e_mail_spam_detection.ipynb\" target=\"_parent\"><img src=\"https://colab.research.google.com/assets/colab-badge.svg\" alt=\"Open In Colab\"/></a>"
      ]
    },
    {
      "cell_type": "markdown",
      "metadata": {
        "id": "P6zc7yo6buQi"
      },
      "source": [
        "**Email Spam and Non-Spam Classification**"
      ]
    },
    {
      "cell_type": "code",
      "metadata": {
        "id": "kAhnHQy0RVuO"
      },
      "source": [
        "# import libarires\n",
        "import pandas as pd\n",
        "import numpy as np\n",
        "import matplotlib.pyplot as plt\n",
        "import nltk\n",
        "from nltk.corpus import stopwords\n",
        "import string"
      ],
      "execution_count": 193,
      "outputs": []
    },
    {
      "cell_type": "markdown",
      "metadata": {
        "id": "KVVWkbLub_a4"
      },
      "source": [
        "**Collect the Dataset**"
      ]
    },
    {
      "cell_type": "code",
      "metadata": {
        "id": "NqRJo_VZRVuo"
      },
      "source": [
        "# load & read the Data\n",
        "df= pd.read_csv(\"/content/s_dataset.csv\")\n"
      ],
      "execution_count": 194,
      "outputs": []
    },
    {
      "cell_type": "markdown",
      "metadata": {
        "id": "6AZai0tZcNbL"
      },
      "source": [
        "*Print the first five rows*"
      ]
    },
    {
      "cell_type": "code",
      "metadata": {
        "id": "vHI-7frbRVus",
        "colab": {
          "base_uri": "https://localhost:8080/",
          "height": 202
        },
        "outputId": "616fc6b7-a4e1-49bf-e2b7-99c275b65ddd"
      },
      "source": [
        "# print the first five rows\n",
        "df.head(5)"
      ],
      "execution_count": 195,
      "outputs": [
        {
          "output_type": "execute_result",
          "data": {
            "text/html": [
              "<div>\n",
              "<style scoped>\n",
              "    .dataframe tbody tr th:only-of-type {\n",
              "        vertical-align: middle;\n",
              "    }\n",
              "\n",
              "    .dataframe tbody tr th {\n",
              "        vertical-align: top;\n",
              "    }\n",
              "\n",
              "    .dataframe thead th {\n",
              "        text-align: right;\n",
              "    }\n",
              "</style>\n",
              "<table border=\"1\" class=\"dataframe\">\n",
              "  <thead>\n",
              "    <tr style=\"text-align: right;\">\n",
              "      <th></th>\n",
              "      <th>Unnamed: 0</th>\n",
              "      <th>label</th>\n",
              "      <th>text</th>\n",
              "      <th>label_num</th>\n",
              "    </tr>\n",
              "  </thead>\n",
              "  <tbody>\n",
              "    <tr>\n",
              "      <th>0</th>\n",
              "      <td>605</td>\n",
              "      <td>nonSpam</td>\n",
              "      <td>Subject: enron methanol ; meter # : 988291\\r\\n...</td>\n",
              "      <td>0</td>\n",
              "    </tr>\n",
              "    <tr>\n",
              "      <th>1</th>\n",
              "      <td>2349</td>\n",
              "      <td>nonSpam</td>\n",
              "      <td>Subject: hpl nom for january 9 , 2001\\r\\n( see...</td>\n",
              "      <td>0</td>\n",
              "    </tr>\n",
              "    <tr>\n",
              "      <th>2</th>\n",
              "      <td>3624</td>\n",
              "      <td>nonSpam</td>\n",
              "      <td>Subject: neon retreat\\r\\nho ho ho , we ' re ar...</td>\n",
              "      <td>0</td>\n",
              "    </tr>\n",
              "    <tr>\n",
              "      <th>3</th>\n",
              "      <td>4685</td>\n",
              "      <td>spam</td>\n",
              "      <td>Subject: photoshop , windows , office . cheap ...</td>\n",
              "      <td>1</td>\n",
              "    </tr>\n",
              "    <tr>\n",
              "      <th>4</th>\n",
              "      <td>2030</td>\n",
              "      <td>nonSpam</td>\n",
              "      <td>Subject: re : indian springs\\r\\nthis deal is t...</td>\n",
              "      <td>0</td>\n",
              "    </tr>\n",
              "  </tbody>\n",
              "</table>\n",
              "</div>"
            ],
            "text/plain": [
              "   Unnamed: 0  ... label_num\n",
              "0         605  ...         0\n",
              "1        2349  ...         0\n",
              "2        3624  ...         0\n",
              "3        4685  ...         1\n",
              "4        2030  ...         0\n",
              "\n",
              "[5 rows x 4 columns]"
            ]
          },
          "metadata": {
            "tags": []
          },
          "execution_count": 195
        }
      ]
    },
    {
      "cell_type": "markdown",
      "metadata": {
        "id": "SsaPfDoXcX7q"
      },
      "source": [
        "**Data Pre-Processing**\n",
        "<br>\n",
        "*Deleted unwanted columns*"
      ]
    },
    {
      "cell_type": "code",
      "metadata": {
        "id": "gE-nCyl3RVuw"
      },
      "source": [
        "# delete the unwanted columns\n",
        "del df[\"Unnamed: 0\"]"
      ],
      "execution_count": 196,
      "outputs": []
    },
    {
      "cell_type": "markdown",
      "metadata": {
        "id": "fNCPPF08c42o"
      },
      "source": [
        "*Check the shape*"
      ]
    },
    {
      "cell_type": "code",
      "metadata": {
        "id": "0ysjUqW8RVu3",
        "colab": {
          "base_uri": "https://localhost:8080/"
        },
        "outputId": "793bb9dc-33f8-4a4a-8a9e-0efda874f5cd"
      },
      "source": [
        "# check the shape\n",
        "df.shape"
      ],
      "execution_count": 197,
      "outputs": [
        {
          "output_type": "execute_result",
          "data": {
            "text/plain": [
              "(5171, 3)"
            ]
          },
          "metadata": {
            "tags": []
          },
          "execution_count": 197
        }
      ]
    },
    {
      "cell_type": "markdown",
      "metadata": {
        "id": "aiEC4GpEdfzG"
      },
      "source": [
        ""
      ]
    },
    {
      "cell_type": "code",
      "metadata": {
        "id": "bgUXaIqlRVu5",
        "colab": {
          "base_uri": "https://localhost:8080/"
        },
        "outputId": "8c52cc52-cf46-46ac-cbf7-3ff8fcd9d92c"
      },
      "source": [
        "# check the columns of dataframe\n",
        "df.columns"
      ],
      "execution_count": 198,
      "outputs": [
        {
          "output_type": "execute_result",
          "data": {
            "text/plain": [
              "Index(['label', 'text', 'label_num'], dtype='object')"
            ]
          },
          "metadata": {
            "tags": []
          },
          "execution_count": 198
        }
      ]
    },
    {
      "cell_type": "code",
      "metadata": {
        "id": "eD-G_SbWRVu6"
      },
      "source": [
        "# check all duplicates and drop\n",
        "df.drop_duplicates(inplace=True)"
      ],
      "execution_count": 199,
      "outputs": []
    },
    {
      "cell_type": "code",
      "metadata": {
        "id": "cRxNlWjtRVu7",
        "colab": {
          "base_uri": "https://localhost:8080/"
        },
        "outputId": "63b8e645-1fcf-47ea-fb62-60f6696ed115"
      },
      "source": [
        "# after droping check the shape\n",
        "df.shape"
      ],
      "execution_count": 200,
      "outputs": [
        {
          "output_type": "execute_result",
          "data": {
            "text/plain": [
              "(4993, 3)"
            ]
          },
          "metadata": {
            "tags": []
          },
          "execution_count": 200
        }
      ]
    },
    {
      "cell_type": "code",
      "metadata": {
        "id": "ekUrmN3tRVu8",
        "colab": {
          "base_uri": "https://localhost:8080/"
        },
        "outputId": "814090ae-ac42-46a8-9cd7-4548d7c3432b"
      },
      "source": [
        "# check null values\n",
        "df.isnull().any()"
      ],
      "execution_count": 201,
      "outputs": [
        {
          "output_type": "execute_result",
          "data": {
            "text/plain": [
              "label        False\n",
              "text         False\n",
              "label_num    False\n",
              "dtype: bool"
            ]
          },
          "metadata": {
            "tags": []
          },
          "execution_count": 201
        }
      ]
    },
    {
      "cell_type": "code",
      "metadata": {
        "id": "JYjwXXCpRVu_",
        "colab": {
          "base_uri": "https://localhost:8080/"
        },
        "outputId": "9018002a-d3a4-4bf5-95ef-426a5d138e98"
      },
      "source": [
        "#Need to download stopwords\n",
        "nltk.download('stopwords')"
      ],
      "execution_count": 202,
      "outputs": [
        {
          "output_type": "stream",
          "text": [
            "[nltk_data] Downloading package stopwords to /root/nltk_data...\n",
            "[nltk_data]   Package stopwords is already up-to-date!\n"
          ],
          "name": "stdout"
        },
        {
          "output_type": "execute_result",
          "data": {
            "text/plain": [
              "True"
            ]
          },
          "metadata": {
            "tags": []
          },
          "execution_count": 202
        }
      ]
    },
    {
      "cell_type": "code",
      "metadata": {
        "id": "lzKdupY1RVvA"
      },
      "source": [
        "#Tokenization (a list of tokens), will be used as the analyzer\n",
        "#1.Punctuations are [!\"#$%&'()*+,-./:;<=>?@[\\]^_`{|}~]\n",
        "#2.Stop words in natural language processing, are useless words (data).\n",
        "def process_text(text):\n",
        "    \n",
        "    #1 Remove Punctuation\n",
        "    nopunc = [char for char in text if char not in string.punctuation]\n",
        "    nopunc = ''.join(nopunc)\n",
        "    \n",
        "    #2 Remove Stop Words\n",
        "    clean_words = [word for word in nopunc.split() if word.lower() not in stopwords.words('english')]\n",
        "    \n",
        "    #3 Return a list of clean words\n",
        "    return clean_words"
      ],
      "execution_count": 203,
      "outputs": []
    },
    {
      "cell_type": "code",
      "metadata": {
        "id": "ASZPq6MuRVvC",
        "colab": {
          "base_uri": "https://localhost:8080/"
        },
        "outputId": "6ccdb4b2-d3be-49e4-b998-dd4a9469f276"
      },
      "source": [
        "#Show the Tokenization (a list of tokens )\n",
        "df['text'].head(10).apply(process_text)"
      ],
      "execution_count": 204,
      "outputs": [
        {
          "output_type": "execute_result",
          "data": {
            "text/plain": [
              "0    [Subject, enron, methanol, meter, 988291, foll...\n",
              "1    [Subject, hpl, nom, january, 9, 2001, see, att...\n",
              "2    [Subject, neon, retreat, ho, ho, ho, around, w...\n",
              "3    [Subject, photoshop, windows, office, cheap, m...\n",
              "4    [Subject, indian, springs, deal, book, teco, p...\n",
              "5    [Subject, ehronline, web, address, change, mes...\n",
              "6    [Subject, spring, savings, certificate, take, ...\n",
              "7    [Subject, looking, medication, best, source, d...\n",
              "8    [Subject, noms, actual, flow, 2, 26, agree, fo...\n",
              "9    [Subject, nominations, oct, 21, 23, 2000, see,...\n",
              "Name: text, dtype: object"
            ]
          },
          "metadata": {
            "tags": []
          },
          "execution_count": 204
        }
      ]
    },
    {
      "cell_type": "markdown",
      "metadata": {
        "id": "USyzR__Ydl9r"
      },
      "source": [
        "**Feature Selection**"
      ]
    },
    {
      "cell_type": "code",
      "metadata": {
        "id": "uCaxHJCCRVvD",
        "scrolled": true
      },
      "source": [
        "# convert a text  to metric of a token\n",
        "from sklearn.feature_extraction.text import CountVectorizer\n",
        "messages_bow = CountVectorizer(analyzer=process_text).fit_transform(df['text']).toarray()"
      ],
      "execution_count": 192,
      "outputs": []
    },
    {
      "cell_type": "code",
      "metadata": {
        "id": "AJl5qphKeKn-",
        "outputId": "963440b3-4d86-4232-da83-fa3e48acb7a4",
        "colab": {
          "base_uri": "https://localhost:8080/"
        }
      },
      "source": [
        "#Get the shape of messages_bow\n",
        "messages_bow.shape"
      ],
      "execution_count": 239,
      "outputs": [
        {
          "output_type": "execute_result",
          "data": {
            "text/plain": [
              "(4993, 50381)"
            ]
          },
          "metadata": {
            "tags": []
          },
          "execution_count": 239
        }
      ]
    },
    {
      "cell_type": "markdown",
      "metadata": {
        "id": "eaaG_Jw2dxc-"
      },
      "source": [
        "**Spliting The Data into 70% training and 30% testing**"
      ]
    },
    {
      "cell_type": "code",
      "metadata": {
        "id": "fYR4dUEPRVvE"
      },
      "source": [
        "#Split data into 70% training & 30% testing data sets\n",
        "from sklearn.model_selection import train_test_split\n",
        "X_train, X_test, y_train, y_test = train_test_split(messages_bow , df['label'], test_size = 0.30, random_state = 0)"
      ],
      "execution_count": 205,
      "outputs": []
    },
    {
      "cell_type": "code",
      "metadata": {
        "colab": {
          "base_uri": "https://localhost:8080/"
        },
        "id": "TmdzMYF_THVp",
        "outputId": "03ff54c6-fe67-4b5f-a7e6-c3943475e75f"
      },
      "source": [
        "# check the shape of train and test Data\n",
        "print(f\"Shape of train data : {X_train.shape} and Shape of test data: {X_test.shape}\")\n",
        "\n"
      ],
      "execution_count": 285,
      "outputs": [
        {
          "output_type": "stream",
          "text": [
            "Shape of train data : (3495, 50381) and Shape of test data: (1498, 50381)\n"
          ],
          "name": "stdout"
        }
      ]
    },
    {
      "cell_type": "markdown",
      "metadata": {
        "id": "nODiyM2feQpk"
      },
      "source": [
        "**Using MultinomialNB algorithm**"
      ]
    },
    {
      "cell_type": "code",
      "metadata": {
        "id": "tGVqE3BsRVvK",
        "colab": {
          "base_uri": "https://localhost:8080/"
        },
        "outputId": "da482eb9-1e66-4c34-cc66-bb56491e4850"
      },
      "source": [
        "# using MultinomialNB algoritm on train data \n",
        "from sklearn.naive_bayes import MultinomialNB\n",
        "classifier = MultinomialNB()\n",
        "classifier.fit(X_train, y_train)"
      ],
      "execution_count": 270,
      "outputs": [
        {
          "output_type": "execute_result",
          "data": {
            "text/plain": [
              "MultinomialNB(alpha=1.0, class_prior=None, fit_prior=True)"
            ]
          },
          "metadata": {
            "tags": []
          },
          "execution_count": 270
        }
      ]
    },
    {
      "cell_type": "markdown",
      "metadata": {
        "id": "Ofv6ysyOgNim"
      },
      "source": [
        "**Predicted on Training Data using MultinomialNB**"
      ]
    },
    {
      "cell_type": "code",
      "metadata": {
        "id": "A4yeJJi_Xcet",
        "outputId": "2c805ae9-175c-43e4-d2c3-ce3f25e9b497",
        "colab": {
          "base_uri": "https://localhost:8080/"
        }
      },
      "source": [
        "#Print the predictions\n",
        "print(\"Predicated values :\",classifier.predict(X_train))\n",
        "#Print the actual values\n",
        "print(\"_________________________________________________________________________________\")\n",
        "print(\"Actual Values :\",y_train.values)"
      ],
      "execution_count": 271,
      "outputs": [
        {
          "output_type": "stream",
          "text": [
            "Predicated values : ['nonSpam' 'nonSpam' 'spam' ... 'nonSpam' 'nonSpam' 'spam']\n",
            "_________________________________________________________________________________\n",
            "Actual Values : ['nonSpam' 'nonSpam' 'spam' ... 'nonSpam' 'nonSpam' 'spam']\n"
          ],
          "name": "stdout"
        }
      ]
    },
    {
      "cell_type": "markdown",
      "metadata": {
        "id": "i8InJTMhhBS0"
      },
      "source": [
        "**Using GaussianNB algorithm**"
      ]
    },
    {
      "cell_type": "code",
      "metadata": {
        "id": "OSgRfmlsUtRN",
        "outputId": "0a417f74-5075-45b7-ad51-d5a8ddc35d5f",
        "colab": {
          "base_uri": "https://localhost:8080/"
        }
      },
      "source": [
        "# using MultinomialNB algorithm on train data \n",
        "from sklearn.naive_bayes import GaussianNB\n",
        "GN_classifier = GaussianNB()\n",
        "GN_classifier.fit(X_train, y_train)"
      ],
      "execution_count": 273,
      "outputs": [
        {
          "output_type": "execute_result",
          "data": {
            "text/plain": [
              "GaussianNB(priors=None, var_smoothing=1e-09)"
            ]
          },
          "metadata": {
            "tags": []
          },
          "execution_count": 273
        }
      ]
    },
    {
      "cell_type": "markdown",
      "metadata": {
        "id": "Pe4Pf8mPh7RS"
      },
      "source": [
        "**Prediction on Training Data  using GaussianNB**"
      ]
    },
    {
      "cell_type": "code",
      "metadata": {
        "id": "7DHUXpa7Vs3d",
        "outputId": "9f4ea176-b05f-4ab3-d3c0-31d3f47e8b04",
        "colab": {
          "base_uri": "https://localhost:8080/"
        }
      },
      "source": [
        "# Predicting the training set results by GaussianNB\n",
        "# print the predictions and actual values by using GaussianNB\n",
        "print(\"Prediction values : \\n\",GN_classifier.predict(X_train))\n",
        "print(\"__________________________________________\")\n",
        "print(\"Actual values : \\n\",y_train.values)"
      ],
      "execution_count": 274,
      "outputs": [
        {
          "output_type": "stream",
          "text": [
            "Prediction values : \n",
            " ['nonSpam' 'nonSpam' 'spam' ... 'nonSpam' 'nonSpam' 'spam']\n",
            "__________________________________________\n",
            "Actual values : \n",
            " ['nonSpam' 'nonSpam' 'spam' ... 'nonSpam' 'nonSpam' 'spam']\n"
          ],
          "name": "stdout"
        }
      ]
    },
    {
      "cell_type": "markdown",
      "metadata": {
        "id": "9mRPxBPVlEQ-"
      },
      "source": [
        "**Accuracy and Confusion Matrix on training Data**"
      ]
    },
    {
      "cell_type": "code",
      "metadata": {
        "id": "csuw-M-NRVvO",
        "colab": {
          "base_uri": "https://localhost:8080/"
        },
        "outputId": "5985720b-c68e-495e-da27-71b6720c232b"
      },
      "source": [
        "#Evaluate the model on the training data set\n",
        "from sklearn.metrics import confusion_matrix ,accuracy_score\n",
        "pred = classifier.predict(X_train)\n",
        "print('MultinomialNB Confusion Matrix: \\n',confusion_matrix(y_train,pred))\n",
        "train_accu_MNB=accuracy_score(y_train,pred)\n",
        "print(f\"Training data Accuracy on MultinomialNB :{train_accu_MNB}\")\n",
        "pred_1=GN_classifier.predict(X_train)\n",
        "print(' GaussianNB Confusion Matrix: \\n',confusion_matrix(y_train,pred_1))\n",
        "train_accu_GNB=accuracy_score(y_train,pred_1)\n",
        "print(f\"Training data Accuracy on GaussianNB :{train_accu_GNB}\")\n",
        "\n",
        "\n"
      ],
      "execution_count": 287,
      "outputs": [
        {
          "output_type": "stream",
          "text": [
            "MultinomialNB Confusion Matrix: \n",
            " [[2428   14]\n",
            " [  11 1042]]\n",
            "Training data Accuracy on MultinomialNB :0.9928469241773963\n",
            " GaussianNB Confusion Matrix: \n",
            " [[2442    0]\n",
            " [  35 1018]]\n",
            "Training data Accuracy on GaussianNB :0.9899856938483548\n"
          ],
          "name": "stdout"
        }
      ]
    },
    {
      "cell_type": "markdown",
      "metadata": {
        "id": "qD1I277ytqvP"
      },
      "source": [
        "**Prediction on Testing Data**"
      ]
    },
    {
      "cell_type": "code",
      "metadata": {
        "id": "3P6IRorztmS3",
        "outputId": "47856648-9478-44ca-e04e-b7919a9c5d03",
        "colab": {
          "base_uri": "https://localhost:8080/"
        }
      },
      "source": [
        "#Print the predictions on MultinomialNB\n",
        "print(\"Predicated values :\",classifier.predict(X_test))\n",
        "#Print the actual values\n",
        "print(\"_________________________________________________________________________________\")\n",
        "print(\"Actual Values :\",y_test.values)"
      ],
      "execution_count": 295,
      "outputs": [
        {
          "output_type": "stream",
          "text": [
            "Predicated values : ['nonSpam' 'nonSpam' 'nonSpam' ... 'spam' 'nonSpam' 'nonSpam']\n",
            "_________________________________________________________________________________\n",
            "Actual Values : ['nonSpam' 'nonSpam' 'nonSpam' ... 'spam' 'nonSpam' 'nonSpam']\n"
          ],
          "name": "stdout"
        }
      ]
    },
    {
      "cell_type": "code",
      "metadata": {
        "id": "lVoh74Ojtpep",
        "outputId": "0c38cd46-424c-4030-e1e9-e68f7272a1ab",
        "colab": {
          "base_uri": "https://localhost:8080/"
        }
      },
      "source": [
        "# Predicting the Test set results by GaussianNB\n",
        "# print the predictions and actual values by using GaussianNB\n",
        "print(\"Prediction values : \\n\",GN_classifier.predict(X_test))\n",
        "print(\"__________________________________________\")\n",
        "print(\"Actual values : \\n\",y_test.values)"
      ],
      "execution_count": 278,
      "outputs": [
        {
          "output_type": "stream",
          "text": [
            "Prediction values : \n",
            " ['nonSpam' 'nonSpam' 'nonSpam' ... 'spam' 'nonSpam' 'nonSpam']\n",
            "__________________________________________\n",
            "Actual values : \n",
            " ['nonSpam' 'nonSpam' 'nonSpam' ... 'spam' 'nonSpam' 'nonSpam']\n"
          ],
          "name": "stdout"
        }
      ]
    },
    {
      "cell_type": "markdown",
      "metadata": {
        "id": "qfr9Q0qCymv4"
      },
      "source": [
        "**Accuracy and Confusion Matrix on testing Data**"
      ]
    },
    {
      "cell_type": "code",
      "metadata": {
        "id": "fMX_n0OLtpst",
        "outputId": "860b8eb6-d6c6-4aeb-8a99-931e71efd275",
        "colab": {
          "base_uri": "https://localhost:8080/"
        }
      },
      "source": [
        "#Evaluate the model on the training data set\n",
        "from sklearn.metrics import confusion_matrix ,accuracy_score\n",
        "pred = classifier.predict(X_test)\n",
        "print('MultinomialNB Confusion Matrix: \\n',confusion_matrix(y_test,pred))\n",
        "test_accu_MNB=accuracy_score(y_test,pred)\n",
        "print(f\"Testing data Accuracy on MultinomialNB :{test_accu_MNB}\")\n",
        "pred_1=GN_classifier.predict(X_test)\n",
        "print(' GaussianNB Confusion Matrix: \\n',confusion_matrix(y_test,pred_1))\n",
        "test_accu_GNB=accuracy_score(y_test,pred_1)\n",
        "print(f\"Testing data Accuracy on GaussianNB :{test_accu_GNB}\")"
      ],
      "execution_count": 296,
      "outputs": [
        {
          "output_type": "stream",
          "text": [
            "MultinomialNB Confusion Matrix: \n",
            " [[1067   22]\n",
            " [  14  395]]\n",
            "Testing data Accuracy on MultinomialNB :0.9759679572763685\n",
            " GaussianNB Confusion Matrix: \n",
            " [[1071   18]\n",
            " [  37  372]]\n",
            "Testing data Accuracy on GaussianNB :0.9632843791722296\n"
          ],
          "name": "stdout"
        }
      ]
    },
    {
      "cell_type": "markdown",
      "metadata": {
        "id": "w5W_FP96i8Bv"
      },
      "source": [
        "**Accuracy on training data by compare algorithm**"
      ]
    },
    {
      "cell_type": "code",
      "metadata": {
        "colab": {
          "base_uri": "https://localhost:8080/",
          "height": 282
        },
        "id": "XqNNbMAbZO5p",
        "outputId": "0e477286-5ee1-4ee1-8d53-68b264dcc512"
      },
      "source": [
        "\n",
        "models = pd.DataFrame({\"TEST_GNB\": test_accu_GNB,\n",
        "                       \"Train_GNB\": train_accu_GNB,\n",
        "                       \"TEST_MNB\": test_accu_MNB,\n",
        "                           \"Train_MNB\": train_accu_MNB\n",
        "                           },\n",
        "                          index=[0])\n",
        "\n",
        "models.T.plot.bar(title=\"Compare different algorthims\",\n",
        "                      legend=False)\n",
        "plt.xticks(rotation=0);"
      ],
      "execution_count": 294,
      "outputs": [
        {
          "output_type": "display_data",
          "data": {
            "image/png": "[encoded data removed]",
            "text/plain": [
              "<Figure size 432x288 with 1 Axes>"
            ]
          },
          "metadata": {
            "tags": [],
            "needs_background": "light"
          }
        }
      ]
    },
    {
      "cell_type": "code",
      "metadata": {
        "id": "lEFKND790_Ql"
      },
      "source": [
        ""
      ],
      "execution_count": null,
      "outputs": []
    }
  ]
}